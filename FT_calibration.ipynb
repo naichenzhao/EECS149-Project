{
  "cells": [
    {
      "cell_type": "code",
      "execution_count": 61,
      "id": "2e329dbe-a11d-45bf-9e54-a9cbd282a010",
      "metadata": {
        "id": "2e329dbe-a11d-45bf-9e54-a9cbd282a010"
      },
      "outputs": [],
      "source": [
        "import numpy as np\n",
        "\n",
        "def gram_to_netwon(num):\n",
        "  return num*0.009806652\n",
        "\n",
        "def data_creater_from_real(original_list, force):\n",
        "  multiplied_list = np.array([x * force for x in original_list])\n",
        "  return multiplied_list\n",
        "\n",
        "# ros\n",
        "def F_matrix_converter(ps):\n",
        "    row_f = 12\n",
        "    for i in range (len(ps)):\n",
        "        ps[i] = np.append(ps[i], [1, 1, 1, 1, 1, 1])\n",
        "        ps[i] = ps[i].reshape((row_f,1))\n",
        "    F = ps[0]\n",
        "    for i in range (1,len(ps)):\n",
        "        F = np.hstack((F, ps[i]))\n",
        "    return F\n",
        "\n",
        "# real\n",
        "def S_matrix_converter(ps):\n",
        "    row_n = 3\n",
        "    for i in range (len(ps)):\n",
        "        ps[i] = ps[i].reshape((row_n,1))\n",
        "    S = ps[0]\n",
        "    for i in range (1,len(ps)):\n",
        "        S = np.hstack((S, ps[i]))\n",
        "    return S\n",
        "\n",
        "def data_creater_from_ros(l):\n",
        "  return np.array(l)\n",
        "\n",
        "list_for_six_points = [[1, 0.035, 0], [1, 0.0175, 0.03031], [1, -0.0175,0.03031], [1, -0.035, 0], [1, -0.0175, -0.03031], [1, 0.0175, -0.03031]]\n",
        "six_point_weight = []\n",
        "\n",
        "# The plate and screw is 9.6g = 0.0941438592N\n",
        "holder_weight = 9.6 #g\n",
        "total_weight_list_in_newton = []\n",
        "point1_weight_list = []\n",
        "weight_in_use_in_gram = [995.5, 867.9, 749.8, 616.6, 574.4, 498.5, 375.3, 251.3, 199.1, 198.8, 124, 100, 50.1]\n",
        "# If we double the data\n",
        "# weight_in_use_in_gram = [995.5, 867.9, 749.8, 616.6, 574.4, 498.5, 375.3, 251.3, 199.1, 198.8, 124, 100, 50.1, 995.5, 867.9, 749.8, 616.6, 574.4, 498.5, 375.3, 251.3, 199.1, 198.8, 124, 100, 50.1]\n",
        "\n",
        "for i in range(len(weight_in_use_in_gram)):\n",
        "    total_weight_list_in_newton.append(gram_to_netwon(holder_weight + weight_in_use_in_gram[i]))\n"
      ]
    },
    {
      "cell_type": "code",
      "execution_count": 62,
      "id": "26e094e7-e721-475d-ba3e-d338340adbd1",
      "metadata": {
        "id": "26e094e7-e721-475d-ba3e-d338340adbd1"
      },
      "outputs": [],
      "source": [
        "point1_weight_list = []\n",
        "#995.5\n",
        "point1_weight_list.append([-193074.0, -40006.0, -57937.0, -70227.0, -67314.0, -130039.0])\n",
        "# 867.9 = 616.6 + 251.3\n",
        "point1_weight_list.append([-194616.0, -40460.0, -58389.0, -70408.0, -63259.0, -130129.0])\n",
        "# 749.8 = 498.5+251.3\n",
        "point1_weight_list.append([-195614.0, -40823.0, -59474.0, -70498.0, -59654.0, -129948.0])\n",
        "# 616.6\n",
        "point1_weight_list.append([-195433.0, -41095.0, -61282.0, -70679.0, -55960.0, -129678.0])\n",
        "# 574.4 = 199.1+251.3 + 124,\n",
        "point1_weight_list.append([-196159.0, -41186.0, -61553.0, -70769.0, -54338.0, -129678.0])\n",
        "# 498.5\n",
        "point1_weight_list.append([-196522.0, -41367.0, -62276.0, -70860.0, -52265.0, -129588.0])\n",
        "# 375.3 = 251.3+124\n",
        "point1_weight_list.append([-197248.0, -41639.0, -62999.0, -71040.0, -49021.0, -129498.0])\n",
        "# 251.3\n",
        "point1_weight_list.append([-197792.0, -42093.0, -64084.0, -71221.0, -45507.0, -129317.0])\n",
        "# 199.1\n",
        "point1_weight_list.append([-197883.0, -42184.0, -64536.0, -71221.0, -44335.0, -129317.0])\n",
        "# 198.8\n",
        "point1_weight_list.append([-198064.0, -42274.0, -64445.0, -71312.0, -44335.0, -129317.0])\n",
        "# 124\n",
        "point1_weight_list.append([-198336.0, -42456.0, -64988.0, -71312.0, -42353.0, -129317.0])\n",
        "# 100\n",
        "point1_weight_list.append([-198427.0, -42547.0, -65259.0, -71402.0, -41632.0, -129317.0])\n",
        "# 50.1\n",
        "point1_weight_list.append([-198699.0, -42637.0, -65711.0, -71492.0, -40370.0, -129227.0])\n",
        "\n",
        "\n",
        "point2_weight_list = []\n",
        "#995.5\n",
        "point2_weight_list.append([-216482.0, -42637.0, -47995.0, -69233.0, -55239.0, -132113.0])\n",
        "# 867.9 = 616.6 + 251.3\n",
        "point2_weight_list.append([-213942.0, -42728.0, -51610.0, -69685.0, -52265.0, -131842.0])\n",
        "# 749.8 = 498.5+251.3\n",
        "point2_weight_list.append([-211311.0, -42909.0, -54141.0, -70046.0, -50373.0, -131572.0])\n",
        "# 616.6\n",
        "point2_weight_list.append([-210131.0, -43000.0, -55316.0, -70227.0, -48480.0, -131391.0])\n",
        "# 574.4 = 199.1+251.3 + 124,\n",
        "point2_weight_list.append([-207591.0, -42909.0, -57485.0, -70317.0, -48210.0, -131211.0])\n",
        "# 498.5\n",
        "point2_weight_list.append([-207772.0, -43091.0, -57847.0, -70498.0, -46498.0, -131211.0])\n",
        "# 375.3 = 251.3+124\n",
        "point2_weight_list.append([-205776.0, -43091.0, -59745.0, -70769.0, -44786.0, -130940.0])\n",
        "# 251.3\n",
        "point2_weight_list.append([-203417.0, -42909.0, -62005.0, -71040.0, -42984.0, -130580.0])\n",
        "# 199.1\n",
        "point2_weight_list.append([-202238.0, -42909.0, -63089.0, -71221.0, -42353.0, -130580.0])\n",
        "# 198.8\n",
        "point2_weight_list.append([-202328.0, -42909.0, -63180.0, -71221.0, -42082.0, -130490.0])\n",
        "# 124\n",
        "point2_weight_list.append([-201421.0, -42909.0, -64174.0, -71312.0, -41001.0, -130490.0])\n",
        "# 100\n",
        "point2_weight_list.append([-200967.0, -42909.0, -64626.0, -71402.0, -40460.0, -130309.0])\n",
        "# 50.1\n",
        "point2_weight_list.append([-200151.0, -42909.0, -65620.0, -71583.0, -39649.0, -130219.0])\n",
        "\n",
        "point3_weight_list = []\n",
        "#995.5\n",
        "point3_weight_list.append([-227824.0, -46266.0, -59926.0, -71131.0, -32080.0, -130670.0])\n",
        "# 867.9 = 616.6 + 251.3\n",
        "point3_weight_list.append([-222924.0, -45903.0, -62457.0, -71221.0, -32530.0, -130580.0])\n",
        "# 749.8 = 498.5+251.3\n",
        "point3_weight_list.append([-220565.0, -45450.0, -61553.0, -71312.0, -34152.0, -130490.0])\n",
        "# 616.6\n",
        "point3_weight_list.append([-216664.0, -45087.0, -62457.0, -71312.0, -34963.0, -130580.0])\n",
        "# 574.4 = 199.1+251.3 + 124,\n",
        "point3_weight_list.append([-215031.0, -44996.0, -63541.0, -71402.0, -35144.0, -130490.0])\n",
        "# 498.5\n",
        "point3_weight_list.append([-212400.0, -44724.0, -64264.0, -71492.0, -35865.0, -130399.0])\n",
        "# 375.3 = 251.3+124\n",
        "point3_weight_list.append([-209315.0, -44270.0, -64807.0, -71492.0, -36676.0, -130309.0])\n",
        "# 251.3\n",
        "point3_weight_list.append([-206502.0, -43998.0, -64897.0, -71492.0, -37487.0, -130309.0])\n",
        "# 199.1\n",
        "point3_weight_list.append([-204778.0, -43907.0, -65530.0, -71492.0, -37757.0, -130219.0])\n",
        "# 198.8\n",
        "point3_weight_list.append([-204597.0, -43817.0, -65711.0, -71583.0, -37847.0, -130219.0])\n",
        "# 124\n",
        "point3_weight_list.append([-202782.0, -43635.0, -65982.0, -71583.0, -38208.0, -130219.0])\n",
        "# 100\n",
        "point3_weight_list.append([-201875.0, -43545.0, -66253.0, -71583.0, -38658.0, -130129.0])\n",
        "# 50.1\n",
        "point3_weight_list.append([-200695.0, -43454.0, -66343.0, -71673.0, -38748.0, -130129.0])\n",
        "\n",
        "point4_weight_list = []\n",
        "#995.5\n",
        "point4_weight_list.append([-212944.0, -46629.0, -84963.0, -73300.0, -22167.0, -129768.0])\n",
        "# 867.9 = 616.6 + 251.3\n",
        "point4_weight_list.append([-211039.0, -46175.0, -81890.0, -73029.0, -25321.0, -129948.0])\n",
        "# 749.8 = 498.5+251.3\n",
        "point4_weight_list.append([-209405.0, -45722.0, -79630.0, -72848.0, -27394.0, -130039.0])\n",
        "# 616.6\n",
        "point4_weight_list.append([-207863.0, -45540.0, -78094.0, -72848.0, -28475.0, -130039.0])\n",
        "# 574.4 = 199.1+251.3 + 124,\n",
        "point4_weight_list.append([-207409.0, -45359.0, -77190.0, -72758.0, -29196.0, -130039.0])\n",
        "# 498.5\n",
        "point4_weight_list.append([-205685.0, -44996.0, -76647.0, -72758.0, -30458.0, -129948.0])\n",
        "# 375.3 = 251.3+124\n",
        "point4_weight_list.append([-204325.0, -44542.0, -73665.0, -72487.0, -32891.0, -130039.0])\n",
        "# 251.3\n",
        "point4_weight_list.append([-202691.0, -44180.0, -71495.0, -72215.0, -34963.0, -130129.0])\n",
        "# 199.1\n",
        "point4_weight_list.append([-202238.0, -43907.0, -70411.0, -72125.0, -35684.0, -130039.0])\n",
        "# 198.8\n",
        "point4_weight_list.append([-202056.0, -43907.0, -70320.0, -72125.0, -35865.0, -130039.0])\n",
        "# 124\n",
        "point4_weight_list.append([-201330.0, -43726.0, -69145.0, -72035.0, -36766.0, -130039.0])\n",
        "# 100\n",
        "point4_weight_list.append([-200877.0, -43635.0, -68603.0, -72035.0, -37397.0, -130039.0])\n",
        "# 50.1\n",
        "point4_weight_list.append([-200242.0, -43545.0, -67609.0, -71854.0, -38298.0, -130039.0])\n",
        "\n",
        "point5_weight_list = []\n",
        "#995.5\n",
        "point5_weight_list.append([-192439.0, -43907.0, -95357.0, -74836.0, -32801.0, -129317.0])\n",
        "# 867.9 = 616.6 + 251.3\n",
        "point5_weight_list.append([-193528.0, -43726.0, -90477.0, -74294.0, -34783.0, -129588.0])\n",
        "# 749.8 = 498.5+251.3\n",
        "point5_weight_list.append([-194526.0, -43726.0, -87223.0, -73842.0, -35324.0, -129678.0])\n",
        "# 616.6\n",
        "point5_weight_list.append([-194889.0, -43635.0, -84511.0, -73481.0, -35504.0, -129678.0])\n",
        "# 574.4 = 199.1+251.3 + 124,\n",
        "point5_weight_list.append([-195161.0, -43635.0, -83155.0, -73481.0, -36045.0, -129768.0])\n",
        "# 498.5\n",
        "point5_weight_list.append([-195705.0, -43545.0, -80896.0, -73210.0, -36585.0, -129858.0])\n",
        "# 375.3 = 251.3+124\n",
        "point5_weight_list.append([-196703.0, -43545.0, -77461.0, -72938.0, -37036.0, -129948.0])\n",
        "# 251.3\n",
        "point5_weight_list.append([-197701.0, -43454.0, -73936.0, -72577.0, -37757.0, -130039.0])\n",
        "# 199.1\n",
        "point5_weight_list.append([-197883.0, -43454.0, -72670.0, -72396.0, -38117.0, -130039.0])\n",
        "# 198.8\n",
        "point5_weight_list.append([-197792.0, -43454.0, -72670.0, -72396.0, -38117.0, -130039.0])\n",
        "# 124\n",
        "point5_weight_list.append([-198699.0, -43454.0, -70320.0, -72035.0, -38298.0, -130129.0])\n",
        "# 100\n",
        "point5_weight_list.append([-198699.0, -43363.0, -69868.0, -72035.0, -38568.0, -130219.0])\n",
        "# 50.1\n",
        "point5_weight_list.append([-199153.0, -43454.0, -68422.0, -71944.0, -38838.0, -130219.0])\n",
        "\n",
        "point6_weight_list = []\n",
        "#995.5\n",
        "point6_weight_list.append([-183638.0, -41004.0, -81528.0, -73752.0, -56050.0, -128956.0])\n",
        "# 867.9 = 616.6 + 251.3\n",
        "point6_weight_list.append([-185997.0, -41277.0, -79721.0, -73481.0, -53617.0, -128866.0])\n",
        "# 749.8 = 498.5+251.3\n",
        "point6_weight_list.append([-187721.0, -41458.0, -77913.0, -73210.0, -51725.0, -128956.0])\n",
        "# 616.6\n",
        "point6_weight_list.append([-189898.0, -41730.0, -75472.0, -72938.0, -50102.0, -129137.0])\n",
        "# 574.4 = 199.1+251.3 + 124,\n",
        "point6_weight_list.append([-190443.0, -41912.0, -75020.0, -72848.0, -49291.0, -129137.0])\n",
        "# 498.5\n",
        "point6_weight_list.append([-191713.0, -42002.0, -74117.0, -72758.0, -47760.0, -129137.0])\n",
        "# 375.3 = 251.3+124\n",
        "point6_weight_list.append([-193618.0, -42365.0, -72218.0, -72577.0, -45687.0, -129137.0])\n",
        "# 251.3\n",
        "point6_weight_list.append([-195614.0, -42728.0, -70501.0, -72396.0, -43524.0, -129137.0])\n",
        "# 199.1\n",
        "point6_weight_list.append([-196340.0, -42819.0, -69868.0, -72215.0, -42713.0, -129137.0])\n",
        "# 198.8\n",
        "point6_weight_list.append([-196159.0, -42819.0, -69778.0, -72215.0, -42893.0, -129137.0])\n",
        "# 124\n",
        "point6_weight_list.append([-197610.0, -43091.0, -68874.0, -72125.0, -41181.0, -129137.0])\n",
        "# 100\n",
        "point6_weight_list.append([-197973.0, -43000.0, -68332.0, -72125.0, -41091.0, -129137.0])\n",
        "# 50.1\n",
        "point6_weight_list.append([-198790.0, -43182.0, -67609.0, -72035.0, -40280.0, -129137.0])\n",
        "\n",
        "                              # -194979    -41004    -58932    -70317    -65602    -131481\n",
        "                              # -194798    -40732    -58660    -70137    -65332    -131211\n",
        "# point1_weight_list.append([-194344.0, -42365.0, -59655.0, -68962.0, -66954.0, -133375.0])\n",
        "# # -197248.0, -41458.0, -58118.0, -68510.0, -62628.0, -132023.0\n",
        "# # need ros data 867.9 = 616.6 + 251.3\n",
        "# point1_weight_list.append([-197520.0, -41730.0, -59564.0, -68600.0, -58663.0, -131572.0])\n",
        "# # need ros data 749.8 = 498.5+251.3\n",
        "# point1_weight_list.append([-197520.0, -42002.0, -61553.0, -68962.0, -55329.0, -131572.0])\n",
        "# # need ros data 616.6\n",
        "# point1_weight_list.append([-197701.0, -42274.0, -62909.0, -69233.0, -51995.0, -131391.0])\n",
        "# # need ros data 574.4 = 199.1+251.3 + 124\n",
        "# point1_weight_list.append([-197883.0, -42274.0, -62999.0, -69323.0, -51004.0, -131391.0])\n",
        "# point1_weight_list.append([-197157.0, -43363.0, -64174.0, -69504.0, -51995.0, -132564.0])\n",
        "# # need ros data 375.3 = 251.3+124\n",
        "# point1_weight_list.append([-197973.0, -42637.0, -64355.0, -69504.0, -46768.0, -131211.0])\n",
        "# point1_weight_list.append([-198608.0, -43907.0, -66524.0, -69865.0, -44425.0, -132203.0])\n",
        "# #-198427.0, -42819.0, -65259.0, -69594.0, -43434.0, -131031.0,\n",
        "# point1_weight_list.append([-198971.0, -43998.0, -66886.0, -69865.0, -42803.0, -132113.0])\n",
        "# point1_weight_list.append([-199334.0, -43998.0, -66886.0, -69865.0, -42443.0, -132113.0])\n",
        "# point1_weight_list.append([-199879.0, -44089.0, -67247.0, -69956.0, -40460.0, -132023.0])\n",
        "# point1_weight_list.append([-199788.0, -44270.0, -67518.0, -69865.0, -39920.0, -132023.0])\n",
        "# point1_weight_list.append([-199788.0, -44270.0, -67880.0, -70046.0, -38658.0, -131932.0])\n",
        "\n",
        "# #995.5\n",
        "# point2_weight_list.append([-217027.0, -43182.0, -50526.0, -68148.0, -51815.0, -132564.0])\n",
        "# # 867.9 = 616.6 + 251.3\n",
        "# point2_weight_list.append([-216301.0, -43363.0, -52153.0, -68329.0, -48931.0, -132383.0])\n",
        "# # 749.8 = 498.5+251.3\n",
        "# point2_weight_list.append([-213579.0, -43363.0, -54322.0, -68600.0, -47850.0, -132203.0])\n",
        "# # 616.6\n",
        "# point2_weight_list.append([-211039.0, -43363.0, -56310.0, -68871.0, -46318.0, -132023.0])\n",
        "# # 574.4 = 199.1+251.3 + 124,\n",
        "# point2_weight_list.append([-210222.0, -43454.0, -57847.0, -68962.0, -45056.0, -131932.0])\n",
        "# # 498.5\n",
        "# point2_weight_list.append([-208680.0, -43363.0, -58480.0, -69052.0, -45056.0, -131932.0])\n",
        "# # 375.3 = 251.3+124\n",
        "# point2_weight_list.append([-206774.0, -43454.0, -60468.0, -69323.0, -43164.0, -131662.0])\n",
        "# # 251.3\n",
        "# point2_weight_list.append([-204597.0, -43545.0, -62728.0, -69594.0, -41181.0, -131481.0])\n",
        "# # 199.1\n",
        "# point2_weight_list.append([-203508.0, -43545.0, -64174.0, -69594.0, -40100.0, -131391.0])\n",
        "# # 198.8\n",
        "# point2_weight_list.append([-203508.0, -43545.0, -63903.0, -69685.0, -40370.0, -131391.0])\n",
        "# # 124\n",
        "# point2_weight_list.append([-202147.0, -43545.0, -65168.0, -69775.0, -39199.0, -131301.0])\n",
        "# # 100\n",
        "# point2_weight_list.append([-201693.0, -43545.0, -65620.0, -69956.0, -38748.0, -131211.0])\n",
        "# # 50.1\n",
        "# point2_weight_list.append([-200967.0, -43545.0, -66615.0, -69956.0, -38027.0, -131211.0])\n",
        "\n",
        "# #995.5\n",
        "# point3_weight_list.append([-231544.0, -46538.0, -59474.0, -69414.0, -28656.0, -131481.0])\n",
        "# # 867.9 = 616.6 + 251.3\n",
        "# point3_weight_list.append([-226735.0, -46085.0, -60739.0, -69504.0, -30458.0, -131481.0])\n",
        "# # 749.8 = 498.5+251.3\n",
        "# point3_weight_list.append([-222743.0, -45812.0, -62095.0, -69685.0, -31089.0, -131391.0])\n",
        "# # 616.6\n",
        "# point3_weight_list.append([-218841.0, -45450.0, -62637.0, -69685.0, -32530.0, -131391.0])\n",
        "# # 574.4 = 199.1+251.3 + 124,\n",
        "# point3_weight_list.append([-216119.0, -45177.0, -63993.0, -69865.0, -33432.0, -131301.0])\n",
        "# # 498.5\n",
        "# point3_weight_list.append([-215303.0, -45177.0, -64264.0, -69865.0, -32711.0, -131211.0])\n",
        "# # 375.3 = 251.3+124\n",
        "# point3_weight_list.append([-211311.0, -44724.0, -64807.0, -69956.0, -34333.0, -131301.0])\n",
        "# # 251.3\n",
        "# point3_weight_list.append([-207682.0, -44452.0, -65711.0, -69956.0, -35234.0, -131211.0])\n",
        "# # 199.1\n",
        "# point3_weight_list.append([-205685.0, -44270.0, -66524.0, -70137.0, -35684.0, -131121.0])\n",
        "# # 198.8\n",
        "# point3_weight_list.append([-206139.0, -44270.0, -66163.0, -70046.0, -35594.0, -131211.0])\n",
        "# # 124\n",
        "# point3_weight_list.append([-203871.0, -44089.0, -66705.0, -70137.0, -36135.0, -131121.0])\n",
        "# # 100\n",
        "# point3_weight_list.append([-203054.0, -43998.0, -66795.0, -70046.0, -36495.0, -131121.0])\n",
        "# # 50.1\n",
        "# point3_weight_list.append([-201693.0, -43907.0, -67247.0, -70227.0, -36766.0, -131121.0])\n",
        "\n",
        "# #995.5\n",
        "# point4_weight_list.append([-217480.0, -47627.0, -82975.0, -71854.0, -19464.0, -130309.0])\n",
        "# # 867.9 = 616.6 + 251.3\n",
        "# point4_weight_list.append([-214759.0, -47083.0, -82071.0, -71854.0, -21266.0, -130490.0])\n",
        "# # 749.8 = 498.5+251.3\n",
        "# point4_weight_list.append([-213035.0, -46720.0, -80444.0, -71673.0, -22708.0, -130490.0])\n",
        "# # 616.6\n",
        "# point4_weight_list.append([-210948.0, -46175.0, -77913.0, -71402.0, -25321.0, -130580.0])\n",
        "# # 574.4 = 199.1+251.3 + 124,\n",
        "# point4_weight_list.append([-209405.0, -45994.0, -77913.0, -71312.0, -26403.0, -130670.0])\n",
        "# # 498.5\n",
        "# point4_weight_list.append([-209496.0, -45722.0, -75020.0, -70950.0, -28115.0, -130850.0])\n",
        "# # 375.3 = 251.3+124\n",
        "# point4_weight_list.append([-206139.0, -45177.0, -74388.0, -70950.0, -30278.0, -130850.0])\n",
        "# # 251.3\n",
        "# point4_weight_list.append([-204687.0, -44815.0, -71586.0, -70679.0, -32530.0, -130940.0])\n",
        "# # 199.1\n",
        "# point4_weight_list.append([-203508.0, -44542.0, -70953.0, -70588.0, -33522.0, -131031.0])\n",
        "# # 198.8\n",
        "# point4_weight_list.append([-203780.0, -44542.0, -70772.0, -70498.0, -33522.0, -131031.0])\n",
        "# # 124\n",
        "# point4_weight_list.append([-202419.0, -44270.0, -69778.0, -70408.0, -34783.0, -131121.0])\n",
        "# # 100\n",
        "# point4_weight_list.append([-202056.0, -44270.0, -69507.0, -70408.0, -35054.0, -131121.0])\n",
        "# # 50.1\n",
        "# point4_weight_list.append([-201240.0, -43998.0, -68603.0, -70227.0, -36045.0, -131211.0])\n",
        "\n",
        "# #995.5\n",
        "# point5_weight_list.append([-194435.0, -44724.0, -96623.0, -73390.0, -29196.0, -130219.0])\n",
        "# # 867.9 = 616.6 + 251.3\n",
        "# point5_weight_list.append([-194979.0, -44633.0, -93550.0, -73029.0, -30007.0, -130399.0])\n",
        "# # 749.8 = 498.5+251.3\n",
        "# point5_weight_list.append([-195342.0, -44452.0, -89934.0, -72667.0, -31359.0, -130399.0])\n",
        "# # 616.6\n",
        "# point5_weight_list.append([-195614.0, -44180.0, -85867.0, -72215.0, -33161.0, -130580.0])\n",
        "# # 574.4 = 199.1+251.3 + 124,\n",
        "# point5_weight_list.append([-196794.0, -44361.0, -85234.0, -72035.0, -31990.0, -130580.0])\n",
        "# # 498.5\n",
        "# point5_weight_list.append([-196703.0, -44270.0, -82794.0, -71854.0, -33432.0, -130760.0])\n",
        "# # 375.3 = 251.3+124\n",
        "# point5_weight_list.append([-197701.0, -44180.0, -78546.0, -71402.0, -34783.0, -130850.0])\n",
        "# # 251.3\n",
        "# point5_weight_list.append([-199153.0, -43998.0, -73845.0, -70860.0, -35324.0, -131031.0])\n",
        "# # 199.1\n",
        "# point5_weight_list.append([-197157.0, -43363.0, -64174.0, -69504.0, -51995.0, -132564.0])\n",
        "# # 198.8\n",
        "# point5_weight_list.append([-198971.0, -43998.0, -74026.0, -70860.0, -35414.0, -130940.0])\n",
        "# # 124\n",
        "# point5_weight_list.append([-199516.0, -43998.0, -71586.0, -70588.0, -36135.0, -131121.0])\n",
        "# # 100\n",
        "# point5_weight_list.append([-199607.0, -43907.0, -70863.0, -70498.0, -36405.0, -131121.0])\n",
        "# # 50.1\n",
        "# point5_weight_list.append([-199879.0, -43907.0, -69507.0, -70408.0, -36676.0, -131121.0])\n",
        "\n",
        "# #995.5\n",
        "# point6_weight_list.append([-184817.0, -42365.0, -83336.0, -72577.0, -52716.0, -131121.0])\n",
        "# # 867.9 = 616.6 + 251.3\n",
        "# point6_weight_list.append([-185634.0, -42365.0, -80986.0, -72306.0, -52355.0, -131211.0])\n",
        "# # 749.8 = 498.5+251.3\n",
        "# point6_weight_list.append([-187176.0, -42547.0, -80624.0, -72215.0, -49201.0, -131121.0])\n",
        "# # 616.6\n",
        "# point6_weight_list.append([-189808.0, -42819.0, -77822.0, -71944.0, -47489.0, -131301.0])\n",
        "# # 574.4 = 199.1+251.3 + 124,\n",
        "# point6_weight_list.append([-190171.0, -42909.0, -77099.0, -71854.0, -47039.0, -131211.0])\n",
        "# # 498.5\n",
        "# point6_weight_list.append([-191713.0, -43091.0, -76015.0, -71673.0, -45507.0, -131211.0])\n",
        "# # 375.3 = 251.3+124\n",
        "# point6_weight_list.append([-193255.0, -43182.0, -74207.0, -71673.0, -43704.0, -131211.0])\n",
        "# # 251.3\n",
        "# point6_weight_list.append([-195614.0, -43363.0, -72128.0, -71312.0, -41542.0, -131121.0])\n",
        "# # 199.1\n",
        "# point6_weight_list.append([-196612.0, -43545.0, -71495.0, -71221.0, -40460.0, -131121.0])\n",
        "# # 198.8\n",
        "# point6_weight_list.append([-196431.0, -43454.0, -71495.0, -71131.0, -40550.0, -131121.0])\n",
        "# # 124\n",
        "# point6_weight_list.append([-198246.0, -43635.0, -70140.0, -70950.0, -39019.0, -131211.0])\n",
        "# # 100\n",
        "# point6_weight_list.append([-198608.0, -43726.0, -69688.0, -71040.0, -38838.0, -131211.0])\n",
        "# # 50.1\n",
        "# point6_weight_list.append([-199425.0, -43726.0, -68874.0, -70860.0, -38027.0, -131121.0])\n",
        "\n",
        "\n"
      ]
    },
    {
      "cell_type": "code",
      "execution_count": 84,
      "id": "0254cd13-d559-4ab7-8fec-8c9c959be452",
      "metadata": {
        "id": "0254cd13-d559-4ab7-8fec-8c9c959be452"
      },
      "outputs": [],
      "source": [
        "six_point_weight = []\n",
        "\n",
        "six_point_weight.append(point1_weight_list)\n",
        "six_point_weight.append(point2_weight_list)\n",
        "six_point_weight.append(point3_weight_list)\n",
        "six_point_weight.append(point4_weight_list)\n",
        "six_point_weight.append(point5_weight_list)\n",
        "six_point_weight.append(point6_weight_list)\n",
        "\n",
        "\n",
        "# six_point_weight.append(point1_weight_list2)\n",
        "# six_point_weight.append(point2_weight_list2)\n",
        "# six_point_weight.append(point3_weight_list2)\n",
        "# six_point_weight.append(point4_weight_list2)\n",
        "# six_point_weight.append(point5_weight_list2)\n",
        "# six_point_weight.append(point6_weight_list2)\n",
        "\n",
        "# len(six_point_weight)\n",
        "\n",
        "# six_point_weight[0]\n",
        "\n",
        "ps = []\n",
        "for i in range(len(total_weight_list_in_newton)):\n",
        "  force = total_weight_list_in_newton[i]\n",
        "  for j in range(len(list_for_six_points)):\n",
        "    ps.append(data_creater_from_real(list_for_six_points[j], force))\n",
        "S = S_matrix_converter(ps)\n",
        "\n",
        "six_point_weight_in_order = []\n",
        "for i in range(len(total_weight_list_in_newton)):\n",
        "  for j in range(len(six_point_weight)):\n",
        "    six_point_weight_in_order.append(six_point_weight[j][i])\n",
        "F = F_matrix_converter(six_point_weight_in_order)\n",
        "\n",
        "# S.shape\n",
        "\n",
        "# F.shape\n",
        "\n",
        "M = S@np.linalg.pinv(F)\n",
        "six_point_weight_in_order\n",
        "# M.shape\n",
        "\n",
        "\n",
        "def calculate_and_compare(test_g, point, index): # index is 1 to 6 for the 6 touching points\n",
        "  test_force = gram_to_netwon(test_g + holder_weight)\n",
        "  test_result_from_real = np.array([x * test_force for x in list_for_six_points[index-1]])\n",
        "  # point = point[2:5]\n",
        "  point.extend([1,1,1,1,1,1]) # add the offset 1\n",
        "  test_F = np.array(point).reshape((12,1))\n",
        "  test_result_from_calculation = M@test_F\n",
        "  test_result_from_calculation = test_result_from_calculation.reshape(-1)\n",
        "  # print(\"Theoretically: \",test_result_from_real , \"\\nReal:          \", test_result_from_calculation)\n",
        "  return test_g, test_result_from_real, test_result_from_calculation\n"
      ]
    },
    {
      "cell_type": "code",
      "execution_count": 85,
      "id": "da9261fe-bbed-4859-9d51-b9eb2ba7637c",
      "metadata": {
        "id": "da9261fe-bbed-4859-9d51-b9eb2ba7637c",
        "outputId": "f141bbe1-3268-441e-b7fc-f52f2ef938c5",
        "colab": {
          "base_uri": "https://localhost:8080/"
        }
      },
      "outputs": [
        {
          "output_type": "execute_result",
          "data": {
            "text/plain": [
              "13"
            ]
          },
          "metadata": {},
          "execution_count": 85
        }
      ],
      "source": [
        "len(total_weight_list_in_newton)"
      ]
    },
    {
      "cell_type": "code",
      "execution_count": 86,
      "id": "3d10441c-fb62-476a-9d41-a4cebfd716df",
      "metadata": {
        "id": "3d10441c-fb62-476a-9d41-a4cebfd716df",
        "outputId": "28722783-4d5e-4ecc-e1a5-ee1ae1ccd821",
        "colab": {
          "base_uri": "https://localhost:8080/"
        }
      },
      "outputs": [
        {
          "output_type": "execute_result",
          "data": {
            "text/plain": [
              "(3, 78)"
            ]
          },
          "metadata": {},
          "execution_count": 86
        }
      ],
      "source": [
        "S.shape"
      ]
    },
    {
      "cell_type": "code",
      "execution_count": 87,
      "id": "2e9d88f2-d4a6-4b41-a55d-ca53bc758092",
      "metadata": {
        "id": "2e9d88f2-d4a6-4b41-a55d-ca53bc758092",
        "outputId": "cdb52e85-3938-479c-8bc6-38d713550764",
        "colab": {
          "base_uri": "https://localhost:8080/"
        }
      },
      "outputs": [
        {
          "output_type": "execute_result",
          "data": {
            "text/plain": [
              "13"
            ]
          },
          "metadata": {},
          "execution_count": 87
        }
      ],
      "source": [
        "len(total_weight_list_in_newton)"
      ]
    },
    {
      "cell_type": "code",
      "execution_count": 88,
      "id": "d689daf7-9405-4035-a11e-10d2878db1c0",
      "metadata": {
        "id": "d689daf7-9405-4035-a11e-10d2878db1c0",
        "outputId": "33df7063-aa9b-436a-a893-a4d5d91a2cc2",
        "colab": {
          "base_uri": "https://localhost:8080/"
        }
      },
      "outputs": [
        {
          "output_type": "execute_result",
          "data": {
            "text/plain": [
              "(3, 78)"
            ]
          },
          "metadata": {},
          "execution_count": 88
        }
      ],
      "source": [
        "S.shape"
      ]
    },
    {
      "cell_type": "code",
      "execution_count": 89,
      "id": "5349b579-7fa0-4abc-a18b-d04933359aba",
      "metadata": {
        "id": "5349b579-7fa0-4abc-a18b-d04933359aba",
        "outputId": "3b26a78a-81ba-440b-b125-6030e46616b3",
        "colab": {
          "base_uri": "https://localhost:8080/"
        }
      },
      "outputs": [
        {
          "output_type": "execute_result",
          "data": {
            "text/plain": [
              "(12, 78)"
            ]
          },
          "metadata": {},
          "execution_count": 89
        }
      ],
      "source": [
        "F.shape"
      ]
    },
    {
      "cell_type": "code",
      "execution_count": 90,
      "id": "1f71444b-363e-462c-83f6-23acc1c12aea",
      "metadata": {
        "id": "1f71444b-363e-462c-83f6-23acc1c12aea",
        "outputId": "4f7e24e1-4529-4c9f-9504-f7606e03b3ac",
        "colab": {
          "base_uri": "https://localhost:8080/"
        }
      },
      "outputs": [
        {
          "output_type": "execute_result",
          "data": {
            "text/plain": [
              "(3, 12)"
            ]
          },
          "metadata": {},
          "execution_count": 90
        }
      ],
      "source": [
        "M.shape"
      ]
    },
    {
      "cell_type": "code",
      "execution_count": 91,
      "id": "a20391ab-311f-4fdb-aab7-4cb3bd222f82",
      "metadata": {
        "id": "a20391ab-311f-4fdb-aab7-4cb3bd222f82"
      },
      "outputs": [],
      "source": [
        "p1_compare = []\n",
        "p2_compare = []\n",
        "p3_compare = []\n",
        "p4_compare = []\n",
        "p5_compare = []\n",
        "p6_compare = []\n",
        "# 365.7 at point 6\n",
        "p6_compare.append(calculate_and_compare(365.7,[-193074.0, -42365.0, -72580.0, -72577.0, -45957.0, -129137.0], 6))"
      ]
    },
    {
      "cell_type": "code",
      "execution_count": 92,
      "id": "5887d228-d239-4de4-aa6e-1238ecc84a6c",
      "metadata": {
        "id": "5887d228-d239-4de4-aa6e-1238ecc84a6c"
      },
      "outputs": [],
      "source": [
        "# 251.3+124 at point 6\n",
        "p6_compare.append(calculate_and_compare(251.3+124,[-193709.0, -42456.0, -72399.0, -72577.0, -45777.0, -129227.0], 6))"
      ]
    },
    {
      "cell_type": "code",
      "execution_count": 93,
      "id": "701db515-005b-4250-aaf8-9b26584e57f7",
      "metadata": {
        "id": "701db515-005b-4250-aaf8-9b26584e57f7"
      },
      "outputs": [],
      "source": [
        "# 50.1 at point 6\n",
        "p6_compare.append(calculate_and_compare(50.1,[-198971.0, -43272.0, -67790.0, -71854.0, -40100.0, -129317.0], 6))\n"
      ]
    },
    {
      "cell_type": "code",
      "execution_count": 94,
      "id": "64117b8c-bfdd-44b8-bd8a-b6294f920103",
      "metadata": {
        "id": "64117b8c-bfdd-44b8-bd8a-b6294f920103"
      },
      "outputs": [],
      "source": [
        "# 50.1 at point 1\n",
        "p1_compare.append(calculate_and_compare(50.1, [-199879.0, -43182.0, -66343.0, -71854.0, -40731.0, -130129.0], 1))\n"
      ]
    },
    {
      "cell_type": "code",
      "execution_count": 95,
      "id": "8569c6db-da62-4390-82d9-9666a01f2cf1",
      "metadata": {
        "id": "8569c6db-da62-4390-82d9-9666a01f2cf1"
      },
      "outputs": [],
      "source": [
        "# 365.7 at point 1\n",
        "p1_compare.append(calculate_and_compare(365.7,[-199153.0, -42456.0, -63451.0, -71402.0, -49201.0, -130580.0], 1))\n"
      ]
    },
    {
      "cell_type": "code",
      "execution_count": 96,
      "id": "f4e5de7e-a7a2-415e-adc1-182b68df0a98",
      "metadata": {
        "id": "f4e5de7e-a7a2-415e-adc1-182b68df0a98"
      },
      "outputs": [],
      "source": [
        "# 50.1 at point 4\n",
        "p4_compare.append(calculate_and_compare(50.1,[-200605.0, -43545.0, -67880.0, -71763.0, -38208.0, -130039.0], 4))\n"
      ]
    },
    {
      "cell_type": "code",
      "execution_count": 97,
      "id": "f15e9481-2a36-4c64-b47b-1212c92e6907",
      "metadata": {
        "id": "f15e9481-2a36-4c64-b47b-1212c92e6907"
      },
      "outputs": [],
      "source": [
        "# 995.5 at point 4\n",
        "p4_compare.append(calculate_and_compare(995.5,[-212400.0, -46538.0, -85144.0, -73481.0, -23429.0, -129678.0], 4))\n",
        "\n"
      ]
    },
    {
      "cell_type": "code",
      "execution_count": 98,
      "id": "971a7868-ab9e-4bde-922b-ae5ef8cfe1a0",
      "metadata": {
        "id": "971a7868-ab9e-4bde-922b-ae5ef8cfe1a0"
      },
      "outputs": [],
      "source": [
        "# 995.5 +124 at point 4\n",
        "p4_compare.append(calculate_and_compare(995.5 + 124,[-213216.0, -46901.0, -88578.0, -73752.0, -21176.0, -129678.0], 4))"
      ]
    },
    {
      "cell_type": "code",
      "execution_count": 99,
      "id": "615ac97c-e5f4-4d69-8f9b-efddc081d691",
      "metadata": {
        "id": "615ac97c-e5f4-4d69-8f9b-efddc081d691"
      },
      "outputs": [],
      "source": [
        "# 251.3 at point 3\n",
        "p3_compare.append(calculate_and_compare(251.3,[-206956.0, -44270.0, -65168.0, -71402.0, -37667.0, -130309.0], 3))"
      ]
    },
    {
      "cell_type": "code",
      "execution_count": 122,
      "id": "09b768a7-ef08-40e3-b841-b585e2cf32ac",
      "metadata": {
        "id": "09b768a7-ef08-40e3-b841-b585e2cf32ac"
      },
      "outputs": [],
      "source": [
        "# 365.7 at point 3\n",
        "p3_compare.append(calculate_and_compare(365.7,[-209950.0, -44633.0, -64355.0, -71402.0, -37306.0, -130399.0], 3))"
      ]
    },
    {
      "cell_type": "code",
      "source": [
        "p_compare = [p1_compare, p2_compare, p3_compare, p4_compare, p5_compare, p6_compare]"
      ],
      "metadata": {
        "id": "_6Jpn69mfy4E"
      },
      "id": "_6Jpn69mfy4E",
      "execution_count": 123,
      "outputs": []
    },
    {
      "cell_type": "code",
      "execution_count": 140,
      "id": "a212fb73-18a1-4bce-83ea-599d360ca307",
      "metadata": {
        "id": "a212fb73-18a1-4bce-83ea-599d360ca307",
        "colab": {
          "base_uri": "https://localhost:8080/",
          "height": 472
        },
        "outputId": "06a69309-f85c-48ee-e371-4a0c7d07b0c9"
      },
      "outputs": [
        {
          "output_type": "display_data",
          "data": {
            "text/plain": [
              "<Figure size 640x480 with 1 Axes>"
            ],
            "image/png": "[encoded data removed]"
          },
          "metadata": {}
        }
      ],
      "source": [
        "import numpy as np\n",
        "import matplotlib.pyplot as plt\n",
        "\n",
        "color = ['bo', 'go','ro', 'co', 'mo', 'yo']\n",
        "color_x = ['bx', 'gx','rx', 'cx', 'mx', 'yx']\n",
        "\n",
        "for i in range(len(p_compare)):\n",
        "  l = p_compare[i]\n",
        "  for j in range(len(l)):\n",
        "    s = ''\n",
        "    s2 = ''\n",
        "    if j == 0:\n",
        "      s = 'Theoretical_P%d'%(i+1)\n",
        "      s2 = 'Prediction_P%d'%(i+1)\n",
        "    plt.plot(l[j][0], l[j][1][0], color[i], label=s)\n",
        "    plt.plot(l[j][0], l[j][2][0], color_x[i], label=s2)\n",
        "\n",
        "plt.legend()\n",
        "\n",
        "plt.title('Z-Direction Force (Fz) Comparasion')\n",
        "plt.xlabel('Gram')\n",
        "plt.ylabel('Force')\n",
        "\n",
        "plt.show()\n"
      ]
    },
    {
      "cell_type": "code",
      "source": [
        "for i in range(len(p_compare)):\n",
        "  l = p_compare[i]\n",
        "  for j in range(len(l)):\n",
        "    s = ''\n",
        "    s2 = ''\n",
        "    if j == 0:\n",
        "      s = 'Theoretical_P%d'%(i+1)\n",
        "      s2 = 'Prediction_P%d'%(i+1)\n",
        "    plt.plot(l[j][0], l[j][1][1], color[i], label=s)\n",
        "    plt.plot(l[j][0], l[j][2][1], color_x[i], label=s2)\n",
        "\n",
        "plt.legend()\n",
        "\n",
        "plt.title('X-Direction Torque (Tx) Comparasion')\n",
        "plt.xlabel('Gram')\n",
        "plt.ylabel('Torque')\n",
        "\n",
        "plt.show()"
      ],
      "metadata": {
        "id": "1T-LmK0-dcn1",
        "colab": {
          "base_uri": "https://localhost:8080/",
          "height": 472
        },
        "outputId": "5f08bd8c-c28a-4c28-bec6-912e9215a593"
      },
      "id": "1T-LmK0-dcn1",
      "execution_count": 138,
      "outputs": [
        {
          "output_type": "display_data",
          "data": {
            "text/plain": [
              "<Figure size 640x480 with 1 Axes>"
            ],
            "image/png": "[encoded data removed]"
          },
          "metadata": {}
        }
      ]
    },
    {
      "cell_type": "code",
      "source": [
        "for i in range(len(p_compare)):\n",
        "  l = p_compare[i]\n",
        "  for j in range(len(l)):\n",
        "    s = ''\n",
        "    s2 = ''\n",
        "    if j == 0:\n",
        "      s = 'Theoretical_P%d'%(i+1)\n",
        "      s2 = 'Prediction_P%d'%(i+1)\n",
        "    plt.plot(l[j][0], l[j][1][2], color[i], label=s)\n",
        "    plt.plot(l[j][0], l[j][2][2], color_x[i], label=s2)\n",
        "\n",
        "plt.legend()\n",
        "\n",
        "plt.title('Y-Direction Torque (Ty) Comparasion')\n",
        "plt.xlabel('Gram')\n",
        "plt.ylabel('Torque')\n",
        "\n",
        "plt.show()"
      ],
      "metadata": {
        "colab": {
          "base_uri": "https://localhost:8080/",
          "height": 472
        },
        "id": "0jHyIhI-kKaS",
        "outputId": "a78aaffb-4c90-471a-f569-7e596cbe7cf2"
      },
      "id": "0jHyIhI-kKaS",
      "execution_count": 139,
      "outputs": [
        {
          "output_type": "display_data",
          "data": {
            "text/plain": [
              "<Figure size 640x480 with 1 Axes>"
            ],
            "image/png": "[encoded data removed]"
          },
          "metadata": {}
        }
      ]
    },
    {
      "cell_type": "code",
      "source": [],
      "metadata": {
        "id": "0U_1iZZ7kO_E"
      },
      "id": "0U_1iZZ7kO_E",
      "execution_count": 139,
      "outputs": []
    }
  ],
  "metadata": {
    "kernelspec": {
      "display_name": "Python 3 (ipykernel)",
      "language": "python",
      "name": "python3"
    },
    "language_info": {
      "codemirror_mode": {
        "name": "ipython",
        "version": 3
      },
      "file_extension": ".py",
      "mimetype": "text/x-python",
      "name": "python",
      "nbconvert_exporter": "python",
      "pygments_lexer": "ipython3",
      "version": "3.8.10"
    },
    "colab": {
      "provenance": []
    }
  },
  "nbformat": 4,
  "nbformat_minor": 5
}